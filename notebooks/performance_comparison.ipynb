{
 "cells": [
  {
   "cell_type": "markdown",
   "id": "d636dd97",
   "metadata": {
    "papermill": {
     "duration": 0.005239,
     "end_time": "2025-09-16T00:42:28.760400",
     "exception": false,
     "start_time": "2025-09-16T00:42:28.755161",
     "status": "completed"
    },
    "tags": []
   },
   "source": [
    "# CPED/BICPED 関数のパフォーマンス比較\n",
    "\n",
    "このノートブックでは、`cped` (Copy & Paste Edit Distance) と `bicped` (Bidirectional Copy & Paste Edit Distance) 関数のバックエンド実装のパフォーマンスを比較します。\n",
    "\n",
    "1.  **Python版**: `backend='python'`\n",
    "2.  **C++版**: `backend='cpp'`\n",
    "\n",
    "比較を通じて、各実装の特性と、どのような状況でどの実装が有効であるかを明らかにします。\n"
   ]
  },
  {
   "cell_type": "markdown",
   "id": "5f1ea2d3",
   "metadata": {
    "papermill": {
     "duration": 0.002364,
     "end_time": "2025-09-16T00:42:28.766123",
     "exception": false,
     "start_time": "2025-09-16T00:42:28.763759",
     "status": "completed"
    },
    "tags": []
   },
   "source": [
    "## 1. セットアップ\n",
    "\n",
    "必要なライブラリと、`src`ディレクトリからCPED関数をインポートします。"
   ]
  },
  {
   "cell_type": "code",
   "execution_count": null,
   "id": "32fd43b0",
   "metadata": {
    "execution": {
     "iopub.execute_input": "2025-09-16T00:42:28.770824Z",
     "iopub.status.busy": "2025-09-16T00:42:28.770619Z",
     "iopub.status.idle": "2025-09-16T00:42:29.018608Z",
     "shell.execute_reply": "2025-09-16T00:42:29.018222Z"
    },
    "papermill": {
     "duration": 0.25155,
     "end_time": "2025-09-16T00:42:29.019671",
     "exception": false,
     "start_time": "2025-09-16T00:42:28.768121",
     "status": "completed"
    },
    "tags": []
   },
   "outputs": [],
   "source": [
    "import sys\n",
    "import os\n",
    "import timeit\n",
    "import numpy as np\n",
    "import matplotlib.pyplot as plt\n",
    "import random\n",
    "\n",
    "# Add src directory to path to import cped module\n",
    "sys.path.append(os.path.abspath(os.path.join(\"..\", \"src\")))\n",
    "from repmetric import cped, cped_matrix, bicped, bicped_matrix, CPP_AVAILABLE\n",
    "from repmetric.util import generate_test_case\n",
    "\n",
    "# Set random seed for reproducibility\n",
    "random.seed(42)\n",
    "\n",
    "# Matplotlibの日本語設定\n",
    "try:\n",
    "    import japanize_matplotlib\n",
    "\n",
    "    japanize_matplotlib.japanize()\n",
    "except ImportError:\n",
    "    plt.rcParams[\"font.family\"] = \"sans-serif\""
   ]
  },
  {
   "cell_type": "markdown",
   "id": "4fa58a32",
   "metadata": {
    "papermill": {
     "duration": 0.001089,
     "end_time": "2025-09-16T00:42:29.022261",
     "exception": false,
     "start_time": "2025-09-16T00:42:29.021172",
     "status": "completed"
    },
    "tags": []
   },
   "source": [
    "## 2. テストデータの生成\n",
    "\n",
    "パフォーマンス測定のために、複雑さが異なるいくつかのテスト用文字列ペアを生成します。"
   ]
  },
  {
   "cell_type": "markdown",
   "id": "reproducibility-note",
   "metadata": {
    "papermill": {
     "duration": 0.00097,
     "end_time": "2025-09-16T00:42:29.024296",
     "exception": false,
     "start_time": "2025-09-16T00:42:29.023326",
     "status": "completed"
    },
    "tags": []
   },
   "source": [
    "### 再現性のための注意点\n",
    "\n",
    "公平なパフォーマンス比較のため、このノートブックでは乱数シードを`42`に固定しています。\n",
    "\n",
    "乱数は以下の順番で使用されます：\n",
    "1. **ベンチマーク1用データ**: `generate_test_case` を3回呼び出し、'small', 'medium', 'large' のテストケースを生成します。\n",
    "2. **ベンチマーク2用データ**: `generate_test_case` を `num_sequences` (10) 回ループで呼び出し、距離行列計算用のシーケンスリストを生成します。"
   ]
  },
  {
   "cell_type": "code",
   "execution_count": null,
   "id": "40c46b99",
   "metadata": {
    "execution": {
     "iopub.execute_input": "2025-09-16T00:42:29.027007Z",
     "iopub.status.busy": "2025-09-16T00:42:29.026817Z",
     "iopub.status.idle": "2025-09-16T00:42:29.029754Z",
     "shell.execute_reply": "2025-09-16T00:42:29.029511Z"
    },
    "papermill": {
     "duration": 0.005194,
     "end_time": "2025-09-16T00:42:29.030466",
     "exception": false,
     "start_time": "2025-09-16T00:42:29.025272",
     "status": "completed"
    },
    "tags": []
   },
   "outputs": [],
   "source": [
    "test_cases = {\n",
    "    \"small\": generate_test_case(unit_length=5, repeats=5, edits=2),\n",
    "    \"medium\": generate_test_case(unit_length=10, repeats=10, edits=5),\n",
    "    \"large\": generate_test_case(unit_length=15, repeats=15, edits=8),\n",
    "}\n",
    "\n",
    "for name, (x, y) in test_cases.items():\n",
    "    print(f\"Test Case '{name}': len(X)={len(x)}, len(Y)={len(y)}\")"
   ]
  },
  {
   "cell_type": "markdown",
   "id": "0cb39b93",
   "metadata": {
    "papermill": {
     "duration": 0.001156,
     "end_time": "2025-09-16T00:42:29.033301",
     "exception": false,
     "start_time": "2025-09-16T00:42:29.032145",
     "status": "completed"
    },
    "tags": []
   },
   "source": [
    "## 3. ベンチマーク1: 1対1のパフォーマンス (Python vs C++)\n",
    "\n",
    "単一の文字列ペアに対する距離計算の実行速度を比較します。`timeit`を使い、複数回実行した平均時間を測定します。\n",
    "\n",
    "以下では、同一のテストケースを用いて各距離関数の実装を比較します。\n",
    "\n",
    "### CPED\n"
   ]
  },
  {
   "cell_type": "code",
   "execution_count": null,
   "id": "06d513eb",
   "metadata": {
    "execution": {
     "iopub.execute_input": "2025-09-16T00:42:29.035940Z",
     "iopub.status.busy": "2025-09-16T00:42:29.035819Z",
     "iopub.status.idle": "2025-09-16T00:42:36.251625Z",
     "shell.execute_reply": "2025-09-16T00:42:36.251240Z"
    },
    "papermill": {
     "duration": 7.218177,
     "end_time": "2025-09-16T00:42:36.252540",
     "exception": false,
     "start_time": "2025-09-16T00:42:29.034363",
     "status": "completed"
    },
    "tags": []
   },
   "outputs": [],
   "source": [
    "cped_results_single = {}\n",
    "number_of_runs = 20  # timeitの実行回数\n",
    "\n",
    "for name, (X, Y) in test_cases.items():\n",
    "    print(f\"--- Benchmarking '{name}' case ---\")\n",
    "\n",
    "    # Python版の測定\n",
    "    time_py = timeit.timeit(lambda: cped(X, Y, backend=\"python\"), number=number_of_runs)\n",
    "\n",
    "    # C++版の測定\n",
    "    time_cpp = 0\n",
    "    if CPP_AVAILABLE:\n",
    "        # 初回実行でライブラリ読み込み\n",
    "        cped(X, Y, backend=\"cpp\")\n",
    "        time_cpp = timeit.timeit(\n",
    "            lambda: cped(X, Y, backend=\"cpp\"), number=number_of_runs\n",
    "        )\n",
    "\n",
    "    cped_results_single[name] = {\n",
    "        \"Python (s)\": time_py / number_of_runs,\n",
    "        \"C++ (s)\": time_cpp / number_of_runs if CPP_AVAILABLE else 0,\n",
    "    }\n",
    "\n",
    "print(\"\\n--- Average Execution Time per Run ---\")\n",
    "for name, times in cped_results_single.items():\n",
    "    print(\n",
    "        f\"Case '{name}': Python={times['Python (s)']:.6f}s, C++={times['C++ (s)']:.6f}s\"\n",
    "    )"
   ]
  },
  {
   "cell_type": "code",
   "execution_count": null,
   "id": "8847dcaa",
   "metadata": {
    "execution": {
     "iopub.execute_input": "2025-09-16T00:42:36.256246Z",
     "iopub.status.busy": "2025-09-16T00:42:36.256119Z",
     "iopub.status.idle": "2025-09-16T00:42:36.455513Z",
     "shell.execute_reply": "2025-09-16T00:42:36.455223Z"
    },
    "papermill": {
     "duration": 0.201984,
     "end_time": "2025-09-16T00:42:36.456394",
     "exception": false,
     "start_time": "2025-09-16T00:42:36.254410",
     "status": "completed"
    },
    "tags": []
   },
   "outputs": [],
   "source": [
    "labels = list(cped_results_single.keys())\n",
    "python_times = [r[\"Python (s)\"] for r in cped_results_single.values()]\n",
    "cpp_times = [r[\"C++ (s)\"] for r in cped_results_single.values()]\n",
    "\n",
    "x = np.arange(len(labels))\n",
    "width = 0.35\n",
    "\n",
    "fig, ax = plt.subplots(figsize=(12, 7))\n",
    "rects1 = ax.bar(x - width / 2, python_times, width, label=\"Python Backend\")\n",
    "rects2 = ax.bar(x + width / 2, cpp_times, width, label=\"C++ Backend\")\n",
    "\n",
    "ax.set_ylabel(\"Avg exec time (sec)\")\n",
    "ax.set_title(\"Performance Comparison (CPED): Python vs C++ Backend\")\n",
    "ax.set_xticks(x)\n",
    "ax.set_xticklabels(labels)\n",
    "ax.set_yscale(\"log\")  # 時間差が大きいので対数スケール\n",
    "ax.legend()\n",
    "\n",
    "ax.bar_label(rects1, padding=3, fmt=\"%.4f\")\n",
    "ax.bar_label(rects2, padding=3, fmt=\"%.4f\")\n",
    "\n",
    "fig.tight_layout()\n",
    "plt.show()"
   ]
  },
  {
   "cell_type": "markdown",
   "id": "441046ac",
   "metadata": {},
   "source": [
    "### BICPED\n",
    "\n",
    "CPED と同じテストケースおよび `number_of_runs` を用いて BICPED の実装を比較します。\n"
   ]
  },
  {
   "cell_type": "code",
   "execution_count": null,
   "id": "affa0713",
   "metadata": {},
   "outputs": [],
   "source": [
    "bicped_results_single = {}\n",
    "\n",
    "for name, (X, Y) in test_cases.items():\n",
    "    print(f\"--- Benchmarking '{name}' case (BICPED) ---\")\n",
    "\n",
    "    time_py = timeit.timeit(\n",
    "        lambda: bicped(X, Y, backend=\"python\"), number=number_of_runs\n",
    "    )\n",
    "\n",
    "    time_cpp = 0\n",
    "    if CPP_AVAILABLE:\n",
    "        bicped(X, Y, backend=\"cpp\")\n",
    "        time_cpp = timeit.timeit(\n",
    "            lambda: bicped(X, Y, backend=\"cpp\"), number=number_of_runs\n",
    "        )\n",
    "\n",
    "    bicped_results_single[name] = {\n",
    "        \"Python (s)\": time_py / number_of_runs,\n",
    "        \"C++ (s)\": time_cpp / number_of_runs if CPP_AVAILABLE else 0,\n",
    "    }\n",
    "\n",
    "print(\"\\n--- Average Execution Time per Run (BICPED) ---\")\n",
    "for name, times in bicped_results_single.items():\n",
    "    print(\n",
    "        f\"Case '{name}': Python={times['Python (s)']:.6f}s, C++={times['C++ (s)']:.6f}s\"\n",
    "    )"
   ]
  },
  {
   "cell_type": "code",
   "execution_count": null,
   "id": "7386a7ce",
   "metadata": {},
   "outputs": [],
   "source": [
    "labels = list(bicped_results_single.keys())\n",
    "python_times = [r[\"Python (s)\"] for r in bicped_results_single.values()]\n",
    "cpp_times = [r[\"C++ (s)\"] for r in bicped_results_single.values()]\n",
    "\n",
    "x = np.arange(len(labels))\n",
    "width = 0.35\n",
    "\n",
    "fig, ax = plt.subplots(figsize=(12, 7))\n",
    "rects1 = ax.bar(x - width / 2, python_times, width, label=\"Python Backend\")\n",
    "rects2 = ax.bar(x + width / 2, cpp_times, width, label=\"C++ Backend\")\n",
    "\n",
    "ax.set_ylabel(\"Avg exec time (sec)\")\n",
    "ax.set_title(\"Performance Comparison (BICPED): Python vs C++ Backend\")\n",
    "ax.set_xticks(x)\n",
    "ax.set_xticklabels(labels)\n",
    "ax.set_yscale(\"log\")\n",
    "ax.legend()\n",
    "\n",
    "ax.bar_label(rects1, padding=3, fmt=\"%.4f\")\n",
    "ax.bar_label(rects2, padding=3, fmt=\"%.4f\")\n",
    "\n",
    "fig.tight_layout()\n",
    "plt.show()"
   ]
  },
  {
   "cell_type": "markdown",
   "id": "0d5473e5",
   "metadata": {
    "papermill": {
     "duration": 0.001348,
     "end_time": "2025-09-16T00:42:36.459541",
     "exception": false,
     "start_time": "2025-09-16T00:42:36.458193",
     "status": "completed"
    },
    "tags": []
   },
   "source": [
    "## 4. ベンチマーク2: 行列計算のパフォーマンス (Python vs C++)\n",
    "\n",
    "複数のシーケンスからなるリスト全体の距離行列を計算する際のパフォーマンスを比較します。\n",
    "\n",
    "すべての比較で、前節で生成した同じシーケンスリストを利用します。\n",
    "\n",
    "### CPED\n"
   ]
  },
  {
   "cell_type": "code",
   "execution_count": null,
   "id": "8f45c925",
   "metadata": {
    "execution": {
     "iopub.execute_input": "2025-09-16T00:42:36.462625Z",
     "iopub.status.busy": "2025-09-16T00:42:36.462508Z",
     "iopub.status.idle": "2025-09-16T00:42:36.464871Z",
     "shell.execute_reply": "2025-09-16T00:42:36.464646Z"
    },
    "papermill": {
     "duration": 0.004767,
     "end_time": "2025-09-16T00:42:36.465587",
     "exception": false,
     "start_time": "2025-09-16T00:42:36.460820",
     "status": "completed"
    },
    "tags": []
   },
   "outputs": [],
   "source": [
    "# 行列計算用のシーケンスリストを生成\n",
    "num_sequences = 20\n",
    "sequences = [generate_test_case(10, 10, 3)[1] for _ in range(num_sequences)]\n",
    "print(f\"{num_sequences}本のシーケンスを生成しました。 (各 約{len(sequences[0])}文字)\")"
   ]
  },
  {
   "cell_type": "code",
   "execution_count": null,
   "id": "359a3dd6",
   "metadata": {
    "execution": {
     "iopub.execute_input": "2025-09-16T00:42:36.468722Z",
     "iopub.status.busy": "2025-09-16T00:42:36.468616Z",
     "iopub.status.idle": "2025-09-16T00:42:48.773503Z",
     "shell.execute_reply": "2025-09-16T00:42:48.773157Z"
    },
    "papermill": {
     "duration": 12.307334,
     "end_time": "2025-09-16T00:42:48.774265",
     "exception": false,
     "start_time": "2025-09-16T00:42:36.466931",
     "status": "completed"
    },
    "tags": []
   },
   "outputs": [],
   "source": [
    "cped_results_matrix = {}\n",
    "\n",
    "# 1. Pythonバックエンド\n",
    "start_time = timeit.default_timer()\n",
    "matrix_py = cped_matrix(sequences, backend=\"python\")\n",
    "cped_results_matrix[\"Python Backend\"] = timeit.default_timer() - start_time\n",
    "\n",
    "# 2. C++バックエンド\n",
    "time_cpp_matrix = 0\n",
    "if CPP_AVAILABLE:\n",
    "    start_time = timeit.default_timer()\n",
    "    matrix_cpp = cped_matrix(sequences, backend=\"cpp\")\n",
    "    time_cpp_matrix = timeit.default_timer() - start_time\n",
    "else:\n",
    "    print(\"C++ backend is not available. Falling back to Python timings.\")\n",
    "cped_results_matrix[\"C++ Backend\"] = time_cpp_matrix\n",
    "\n",
    "print(\"--- Total Execution Time for Matrix Calculation (CPED) ---\")\n",
    "for name, duration in cped_results_matrix.items():\n",
    "    print(f\"{name}: {duration:.4f}s\")"
   ]
  },
  {
   "cell_type": "code",
   "execution_count": null,
   "id": "06d7bb11",
   "metadata": {
    "execution": {
     "iopub.execute_input": "2025-09-16T00:42:48.778072Z",
     "iopub.status.busy": "2025-09-16T00:42:48.777958Z",
     "iopub.status.idle": "2025-09-16T00:42:48.863768Z",
     "shell.execute_reply": "2025-09-16T00:42:48.863509Z"
    },
    "papermill": {
     "duration": 0.088394,
     "end_time": "2025-09-16T00:42:48.864549",
     "exception": false,
     "start_time": "2025-09-16T00:42:48.776155",
     "status": "completed"
    },
    "tags": []
   },
   "outputs": [],
   "source": [
    "labels = list(cped_results_matrix.keys())\n",
    "times = list(cped_results_matrix.values())\n",
    "\n",
    "fig, ax = plt.subplots(figsize=(10, 6))\n",
    "bars = ax.bar(labels, times, color=[\"skyblue\", \"lightgreen\"])\n",
    "\n",
    "ax.set_ylabel(\"Total exec time (sec)\")\n",
    "ax.set_yscale(\"log\")\n",
    "ax.set_title(\n",
    "    f\"Comparison (CPED): {len(sequences)}x{len(sequences)} Distance Matrix Computation\"\n",
    ")\n",
    "ax.bar_label(bars, fmt=\"%.2fs\")\n",
    "\n",
    "plt.xticks(rotation=15, ha=\"right\")\n",
    "fig.tight_layout()\n",
    "plt.show()"
   ]
  },
  {
   "cell_type": "markdown",
   "id": "4402cf29",
   "metadata": {},
   "source": [
    "### BICPED\n",
    "\n",
    "行列計算でも同一のシーケンス群を使い、BICPED の Python/C++ 実装を比較します。\n"
   ]
  },
  {
   "cell_type": "code",
   "execution_count": null,
   "id": "519dbdba",
   "metadata": {},
   "outputs": [],
   "source": [
    "bicped_results_matrix = {}\n",
    "\n",
    "start_time = timeit.default_timer()\n",
    "matrix_py = bicped_matrix(sequences, backend=\"python\")\n",
    "bicped_results_matrix[\"Python Backend\"] = timeit.default_timer() - start_time\n",
    "\n",
    "time_cpp_matrix = 0\n",
    "if CPP_AVAILABLE:\n",
    "    start_time = timeit.default_timer()\n",
    "    matrix_cpp = bicped_matrix(sequences, backend=\"cpp\")\n",
    "    time_cpp_matrix = timeit.default_timer() - start_time\n",
    "else:\n",
    "    print(\"C++ backend is not available. Falling back to Python timings.\")\n",
    "bicped_results_matrix[\"C++ Backend\"] = time_cpp_matrix\n",
    "\n",
    "print(\"--- Total Execution Time for Matrix Calculation (BICPED) ---\")\n",
    "for name, duration in bicped_results_matrix.items():\n",
    "    print(f\"{name}: {duration:.4f}s\")"
   ]
  },
  {
   "cell_type": "code",
   "execution_count": null,
   "id": "c06f51df",
   "metadata": {},
   "outputs": [],
   "source": [
    "labels = list(bicped_results_matrix.keys())\n",
    "times = list(bicped_results_matrix.values())\n",
    "\n",
    "fig, ax = plt.subplots(figsize=(10, 6))\n",
    "bars = ax.bar(labels, times, color=[\"skyblue\", \"lightgreen\"])\n",
    "\n",
    "ax.set_ylabel(\"Total exec time (sec)\")\n",
    "ax.set_yscale(\"log\")\n",
    "ax.set_title(\n",
    "    f\"Comparison (BICPED): {len(sequences)}x{len(sequences)} Distance Matrix Computation\"\n",
    ")\n",
    "ax.bar_label(bars, fmt=\"%.2fs\")\n",
    "\n",
    "plt.xticks(rotation=15, ha=\"right\")\n",
    "fig.tight_layout()\n",
    "plt.show()"
   ]
  },
  {
   "cell_type": "markdown",
   "id": "19bbeb2b",
   "metadata": {
    "papermill": {
     "duration": 0.001573,
     "end_time": "2025-09-16T00:42:48.868054",
     "exception": false,
     "start_time": "2025-09-16T00:42:48.866481",
     "status": "completed"
    },
    "tags": []
   },
   "source": [
    "## 5. 結論\n",
    "\n",
    "ベンチマークの結果から、以下のことが分かります。\n",
    "\n",
    "1.  **C++は非常に効果的**: CPED・BICPED ともに、1対1の計算と行列計算の両方において、C++バックエンドはPythonバックエンドに比べて劇的に高速です。文字列が長くなるほど、その差は顕著になります。\n",
    "2.  **並列化はC++実装で**: C++実装は内部でネイティブスレッドを利用して並列化されており、大規模な行列計算で非常に高いパフォーマンスを発揮します。\n",
    "3.  **距離関数ごとの傾向は類似**: BICPED でも CPED と同様の性能傾向が見られ、用途に応じて同じ戦略を適用できます。\n",
    "\n",
    "したがって、パフォーマンスが重要視される場面では、C++バックエンド（`backend='cpp'`）を積極的に使用することが推奨されます。\n"
   ]
  }
 ],
 "metadata": {
  "kernelspec": {
   "display_name": "repmetric",
   "language": "python",
   "name": "repmetric"
  },
  "language_info": {
   "codemirror_mode": {
    "name": "ipython",
    "version": 3
   },
   "file_extension": ".py",
   "mimetype": "text/x-python",
   "name": "python",
   "nbconvert_exporter": "python",
   "pygments_lexer": "ipython3",
   "version": "3.12.4"
  },
  "papermill": {
   "default_parameters": {},
   "duration": 21.20513,
   "end_time": "2025-09-16T00:42:49.086150",
   "environment_variables": {},
   "exception": null,
   "input_path": "notebooks/performance_comparison.ipynb",
   "output_path": "notebooks/performance_comparison.ipynb",
   "parameters": {},
   "start_time": "2025-09-16T00:42:27.881020",
   "version": "2.6.0"
  }
 },
 "nbformat": 4,
 "nbformat_minor": 5
}
