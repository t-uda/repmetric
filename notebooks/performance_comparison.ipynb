{
 "cells": [
  {
   "cell_type": "markdown",
   "id": "d636dd97",
   "metadata": {
    "papermill": {
     "duration": 0.007155,
     "end_time": "2025-09-19T15:14:01.929678",
     "exception": false,
     "start_time": "2025-09-19T15:14:01.922523",
     "status": "completed"
    },
    "tags": []
   },
   "source": [
    "# CPED/BICPED 関数のパフォーマンス比較\n",
    "\n",
    "このノートブックでは、`cped` (Copy & Paste Edit Distance) と `bicped` (Bidirectional Copy & Paste Edit Distance) 関数のバックエンド実装のパフォーマンスを比較します。\n",
    "\n",
    "1.  **Python版**: `backend='python'`\n",
    "2.  **C++版**: `backend='cpp'`\n",
    "\n",
    "比較を通じて、各実装の特性と、どのような状況でどの実装が有効であるかを明らかにします。\n"
   ]
  },
  {
   "cell_type": "markdown",
   "id": "5f1ea2d3",
   "metadata": {
    "papermill": {
     "duration": 0.004073,
     "end_time": "2025-09-19T15:14:01.942118",
     "exception": false,
     "start_time": "2025-09-19T15:14:01.938045",
     "status": "completed"
    },
    "tags": []
   },
   "source": [
    "## 1. セットアップ\n",
    "\n",
    "必要なライブラリと、`src`ディレクトリからCPED関数をインポートします。"
   ]
  },
  {
   "cell_type": "code",
   "execution_count": 1,
   "id": "32fd43b0",
   "metadata": {
    "execution": {
     "iopub.execute_input": "2025-09-19T15:14:01.953355Z",
     "iopub.status.busy": "2025-09-19T15:14:01.952546Z",
     "iopub.status.idle": "2025-09-19T15:14:02.594401Z",
     "shell.execute_reply": "2025-09-19T15:14:02.593365Z"
    },
    "papermill": {
     "duration": 0.660344,
     "end_time": "2025-09-19T15:14:02.606027",
     "exception": false,
     "start_time": "2025-09-19T15:14:01.945683",
     "status": "completed"
    },
    "tags": []
   },
   "outputs": [],
   "source": [
    "import sys\n",
    "import os\n",
    "import timeit\n",
    "import numpy as np\n",
    "import matplotlib.pyplot as plt\n",
    "import random\n",
    "\n",
    "# Add src directory to path to import cped module\n",
    "sys.path.append(os.path.abspath(os.path.join(\"..\", \"src\")))\n",
    "from repmetric import cped, cped_matrix, bicped, bicped_matrix, CPP_AVAILABLE\n",
    "from repmetric.util import generate_test_case\n",
    "\n",
    "# Set random seed for reproducibility\n",
    "random.seed(42)\n",
    "\n",
    "# Matplotlibの日本語設定\n",
    "try:\n",
    "    import japanize_matplotlib\n",
    "\n",
    "    japanize_matplotlib.japanize()\n",
    "except ImportError:\n",
    "    plt.rcParams[\"font.family\"] = \"sans-serif\""
   ]
  },
  {
   "cell_type": "markdown",
   "id": "4fa58a32",
   "metadata": {
    "papermill": {
     "duration": 0.004276,
     "end_time": "2025-09-19T15:14:02.614341",
     "exception": false,
     "start_time": "2025-09-19T15:14:02.610065",
     "status": "completed"
    },
    "tags": []
   },
   "source": [
    "## 2. テストデータの生成\n",
    "\n",
    "パフォーマンス測定のために、複雑さが異なるいくつかのテスト用文字列ペアを生成します。"
   ]
  },
  {
   "cell_type": "markdown",
   "id": "reproducibility-note",
   "metadata": {
    "papermill": {
     "duration": 0.002118,
     "end_time": "2025-09-19T15:14:02.621821",
     "exception": false,
     "start_time": "2025-09-19T15:14:02.619703",
     "status": "completed"
    },
    "tags": []
   },
   "source": [
    "### 再現性のための注意点\n",
    "\n",
    "公平なパフォーマンス比較のため、このノートブックでは乱数シードを`42`に固定しています。\n",
    "\n",
    "乱数は以下の順番で使用されます：\n",
    "1. **ベンチマーク1用データ**: `generate_test_case` を3回呼び出し、'small', 'medium', 'large' のテストケースを生成します。\n",
    "2. **ベンチマーク2用データ**: `generate_test_case` を `num_sequences` (10) 回ループで呼び出し、距離行列計算用のシーケンスリストを生成します。"
   ]
  },
  {
   "cell_type": "code",
   "execution_count": 2,
   "id": "40c46b99",
   "metadata": {
    "execution": {
     "iopub.execute_input": "2025-09-19T15:14:02.641385Z",
     "iopub.status.busy": "2025-09-19T15:14:02.640701Z",
     "iopub.status.idle": "2025-09-19T15:14:02.664757Z",
     "shell.execute_reply": "2025-09-19T15:14:02.655612Z"
    },
    "papermill": {
     "duration": 0.041265,
     "end_time": "2025-09-19T15:14:02.668043",
     "exception": false,
     "start_time": "2025-09-19T15:14:02.626778",
     "status": "completed"
    },
    "tags": []
   },
   "outputs": [
    {
     "name": "stdout",
     "output_type": "stream",
     "text": [
      "Test Case 'small': len(X)=25, len(Y)=15\n",
      "Test Case 'medium': len(X)=100, len(Y)=120\n",
      "Test Case 'large': len(X)=225, len(Y)=285\n"
     ]
    }
   ],
   "source": [
    "test_cases = {\n",
    "    \"small\": generate_test_case(unit_length=5, repeats=5, edits=2),\n",
    "    \"medium\": generate_test_case(unit_length=10, repeats=10, edits=5),\n",
    "    \"large\": generate_test_case(unit_length=15, repeats=15, edits=8),\n",
    "}\n",
    "\n",
    "for name, (x, y) in test_cases.items():\n",
    "    print(f\"Test Case '{name}': len(X)={len(x)}, len(Y)={len(y)}\")"
   ]
  },
  {
   "cell_type": "markdown",
   "id": "0cb39b93",
   "metadata": {
    "papermill": {
     "duration": 0.004311,
     "end_time": "2025-09-19T15:14:02.676162",
     "exception": false,
     "start_time": "2025-09-19T15:14:02.671851",
     "status": "completed"
    },
    "tags": []
   },
   "source": [
    "## 3. ベンチマーク1: 1対1のパフォーマンス (Python vs C++)\n",
    "\n",
    "単一の文字列ペアに対する距離計算の実行速度を比較します。`timeit`を使い、複数回実行した平均時間を測定します。\n",
    "\n",
    "以下では、同一のテストケースを用いて各距離関数の実装を比較します。\n",
    "\n",
    "### CPED\n"
   ]
  },
  {
   "cell_type": "code",
   "execution_count": 3,
   "id": "06d513eb",
   "metadata": {
    "execution": {
     "iopub.execute_input": "2025-09-19T15:14:02.686484Z",
     "iopub.status.busy": "2025-09-19T15:14:02.684767Z",
     "iopub.status.idle": "2025-09-19T15:14:14.332446Z",
     "shell.execute_reply": "2025-09-19T15:14:14.330929Z"
    },
    "papermill": {
     "duration": 11.654967,
     "end_time": "2025-09-19T15:14:14.334718",
     "exception": false,
     "start_time": "2025-09-19T15:14:02.679751",
     "status": "completed"
    },
    "tags": []
   },
   "outputs": [
    {
     "name": "stdout",
     "output_type": "stream",
     "text": [
      "--- Benchmarking 'small' case ---\n",
      "--- Benchmarking 'medium' case ---\n"
     ]
    },
    {
     "name": "stdout",
     "output_type": "stream",
     "text": [
      "--- Benchmarking 'large' case ---\n"
     ]
    },
    {
     "name": "stdout",
     "output_type": "stream",
     "text": [
      "\n",
      "--- Average Execution Time per Run ---\n",
      "Case 'small': Python=0.000918s, C++=0.000019s\n",
      "Case 'medium': Python=0.066227s, C++=0.005052s\n",
      "Case 'large': Python=0.440648s, C++=0.065401s\n"
     ]
    }
   ],
   "source": [
    "cped_results_single = {}\n",
    "number_of_runs = 20  # timeitの実行回数\n",
    "\n",
    "for name, (X, Y) in test_cases.items():\n",
    "    print(f\"--- Benchmarking '{name}' case ---\")\n",
    "\n",
    "    # Python版の測定\n",
    "    time_py = timeit.timeit(lambda: cped(X, Y, backend=\"python\"), number=number_of_runs)\n",
    "\n",
    "    # C++版の測定\n",
    "    time_cpp = 0\n",
    "    if CPP_AVAILABLE:\n",
    "        # 初回実行でライブラリ読み込み\n",
    "        cped(X, Y, backend=\"cpp\")\n",
    "        time_cpp = timeit.timeit(\n",
    "            lambda: cped(X, Y, backend=\"cpp\"), number=number_of_runs\n",
    "        )\n",
    "\n",
    "    cped_results_single[name] = {\n",
    "        \"Python (s)\": time_py / number_of_runs,\n",
    "        \"C++ (s)\": time_cpp / number_of_runs if CPP_AVAILABLE else 0,\n",
    "    }\n",
    "\n",
    "print(\"\\n--- Average Execution Time per Run ---\")\n",
    "for name, times in cped_results_single.items():\n",
    "    print(\n",
    "        f\"Case '{name}': Python={times['Python (s)']:.6f}s, C++={times['C++ (s)']:.6f}s\"\n",
    "    )"
   ]
  },
  {
   "cell_type": "code",
   "execution_count": 4,
   "id": "8847dcaa",
   "metadata": {
    "execution": {
     "iopub.execute_input": "2025-09-19T15:14:14.346285Z",
     "iopub.status.busy": "2025-09-19T15:14:14.345697Z",
     "iopub.status.idle": "2025-09-19T15:14:14.704863Z",
     "shell.execute_reply": "2025-09-19T15:14:14.703878Z"
    },
    "papermill": {
     "duration": 0.368217,
     "end_time": "2025-09-19T15:14:14.707237",
     "exception": false,
     "start_time": "2025-09-19T15:14:14.339020",
     "status": "completed"
    },
    "tags": []
   },
   "outputs": [
    {
     "data": {
      "image/png": "[encoded data removed]",
      "text/plain": [
       "<Figure size 1200x700 with 1 Axes>"
      ]
     },
     "metadata": {},
     "output_type": "display_data"
    }
   ],
   "source": [
    "labels = list(cped_results_single.keys())\n",
    "python_times = [r[\"Python (s)\"] for r in cped_results_single.values()]\n",
    "cpp_times = [r[\"C++ (s)\"] for r in cped_results_single.values()]\n",
    "\n",
    "x = np.arange(len(labels))\n",
    "width = 0.35\n",
    "\n",
    "fig, ax = plt.subplots(figsize=(12, 7))\n",
    "rects1 = ax.bar(x - width / 2, python_times, width, label=\"Python Backend\")\n",
    "rects2 = ax.bar(x + width / 2, cpp_times, width, label=\"C++ Backend\")\n",
    "\n",
    "ax.set_ylabel(\"Avg exec time (sec)\")\n",
    "ax.set_title(\"Performance Comparison (CPED): Python vs C++ Backend\")\n",
    "ax.set_xticks(x)\n",
    "ax.set_xticklabels(labels)\n",
    "ax.set_yscale(\"log\")  # 時間差が大きいので対数スケール\n",
    "ax.legend()\n",
    "\n",
    "ax.bar_label(rects1, padding=3, fmt=\"%.4f\")\n",
    "ax.bar_label(rects2, padding=3, fmt=\"%.4f\")\n",
    "\n",
    "fig.tight_layout()\n",
    "plt.show()"
   ]
  },
  {
   "cell_type": "markdown",
   "id": "441046ac",
   "metadata": {
    "papermill": {
     "duration": 0.002665,
     "end_time": "2025-09-19T15:14:14.715120",
     "exception": false,
     "start_time": "2025-09-19T15:14:14.712455",
     "status": "completed"
    },
    "tags": []
   },
   "source": [
    "### BICPED\n",
    "\n",
    "CPED と同じテストケースおよび `number_of_runs` を用いて BICPED の実装を比較します。\n"
   ]
  },
  {
   "cell_type": "code",
   "execution_count": 5,
   "id": "affa0713",
   "metadata": {
    "execution": {
     "iopub.execute_input": "2025-09-19T15:14:14.725679Z",
     "iopub.status.busy": "2025-09-19T15:14:14.723894Z",
     "iopub.status.idle": "2025-09-19T15:14:42.489675Z",
     "shell.execute_reply": "2025-09-19T15:14:42.488072Z"
    },
    "papermill": {
     "duration": 27.772087,
     "end_time": "2025-09-19T15:14:42.492002",
     "exception": false,
     "start_time": "2025-09-19T15:14:14.719915",
     "status": "completed"
    },
    "tags": []
   },
   "outputs": [
    {
     "name": "stdout",
     "output_type": "stream",
     "text": [
      "--- Benchmarking 'small' case (BICPED) ---\n",
      "--- Benchmarking 'medium' case (BICPED) ---\n"
     ]
    },
    {
     "name": "stdout",
     "output_type": "stream",
     "text": [
      "--- Benchmarking 'large' case (BICPED) ---\n"
     ]
    },
    {
     "name": "stdout",
     "output_type": "stream",
     "text": [
      "\n",
      "--- Average Execution Time per Run (BICPED) ---\n",
      "Case 'small': Python=0.002247s, C++=0.000076s\n",
      "Case 'medium': Python=0.156895s, C++=0.012438s\n",
      "Case 'large': Python=1.059544s, C++=0.147202s\n"
     ]
    }
   ],
   "source": [
    "bicped_results_single = {}\n",
    "\n",
    "for name, (X, Y) in test_cases.items():\n",
    "    print(f\"--- Benchmarking '{name}' case (BICPED) ---\")\n",
    "\n",
    "    time_py = timeit.timeit(\n",
    "        lambda: bicped(X, Y, backend=\"python\"), number=number_of_runs\n",
    "    )\n",
    "\n",
    "    time_cpp = 0\n",
    "    if CPP_AVAILABLE:\n",
    "        bicped(X, Y, backend=\"cpp\")\n",
    "        time_cpp = timeit.timeit(\n",
    "            lambda: bicped(X, Y, backend=\"cpp\"), number=number_of_runs\n",
    "        )\n",
    "\n",
    "    bicped_results_single[name] = {\n",
    "        \"Python (s)\": time_py / number_of_runs,\n",
    "        \"C++ (s)\": time_cpp / number_of_runs if CPP_AVAILABLE else 0,\n",
    "    }\n",
    "\n",
    "print(\"\\n--- Average Execution Time per Run (BICPED) ---\")\n",
    "for name, times in bicped_results_single.items():\n",
    "    print(\n",
    "        f\"Case '{name}': Python={times['Python (s)']:.6f}s, C++={times['C++ (s)']:.6f}s\"\n",
    "    )"
   ]
  },
  {
   "cell_type": "code",
   "execution_count": 6,
   "id": "7386a7ce",
   "metadata": {
    "execution": {
     "iopub.execute_input": "2025-09-19T15:14:42.502789Z",
     "iopub.status.busy": "2025-09-19T15:14:42.502436Z",
     "iopub.status.idle": "2025-09-19T15:14:42.855470Z",
     "shell.execute_reply": "2025-09-19T15:14:42.854024Z"
    },
    "papermill": {
     "duration": 0.360918,
     "end_time": "2025-09-19T15:14:42.857864",
     "exception": false,
     "start_time": "2025-09-19T15:14:42.496946",
     "status": "completed"
    },
    "tags": []
   },
   "outputs": [
    {
     "data": {
      "image/png": "[encoded data removed]",
      "text/plain": [
       "<Figure size 1200x700 with 1 Axes>"
      ]
     },
     "metadata": {},
     "output_type": "display_data"
    }
   ],
   "source": [
    "labels = list(bicped_results_single.keys())\n",
    "python_times = [r[\"Python (s)\"] for r in bicped_results_single.values()]\n",
    "cpp_times = [r[\"C++ (s)\"] for r in bicped_results_single.values()]\n",
    "\n",
    "x = np.arange(len(labels))\n",
    "width = 0.35\n",
    "\n",
    "fig, ax = plt.subplots(figsize=(12, 7))\n",
    "rects1 = ax.bar(x - width / 2, python_times, width, label=\"Python Backend\")\n",
    "rects2 = ax.bar(x + width / 2, cpp_times, width, label=\"C++ Backend\")\n",
    "\n",
    "ax.set_ylabel(\"Avg exec time (sec)\")\n",
    "ax.set_title(\"Performance Comparison (BICPED): Python vs C++ Backend\")\n",
    "ax.set_xticks(x)\n",
    "ax.set_xticklabels(labels)\n",
    "ax.set_yscale(\"log\")\n",
    "ax.legend()\n",
    "\n",
    "ax.bar_label(rects1, padding=3, fmt=\"%.4f\")\n",
    "ax.bar_label(rects2, padding=3, fmt=\"%.4f\")\n",
    "\n",
    "fig.tight_layout()\n",
    "plt.show()"
   ]
  },
  {
   "cell_type": "markdown",
   "id": "0d5473e5",
   "metadata": {
    "papermill": {
     "duration": 0.00293,
     "end_time": "2025-09-19T15:14:42.867293",
     "exception": false,
     "start_time": "2025-09-19T15:14:42.864363",
     "status": "completed"
    },
    "tags": []
   },
   "source": [
    "## 4. ベンチマーク2: 行列計算のパフォーマンス (Python vs C++)\n",
    "\n",
    "複数のシーケンスからなるリスト全体の距離行列を計算する際のパフォーマンスを比較します。\n",
    "\n",
    "すべての比較で、前節で生成した同じシーケンスリストを利用します。\n",
    "\n",
    "### CPED\n"
   ]
  },
  {
   "cell_type": "code",
   "execution_count": 7,
   "id": "8f45c925",
   "metadata": {
    "execution": {
     "iopub.execute_input": "2025-09-19T15:14:42.880280Z",
     "iopub.status.busy": "2025-09-19T15:14:42.878543Z",
     "iopub.status.idle": "2025-09-19T15:14:42.887522Z",
     "shell.execute_reply": "2025-09-19T15:14:42.885983Z"
    },
    "papermill": {
     "duration": 0.018906,
     "end_time": "2025-09-19T15:14:42.891052",
     "exception": false,
     "start_time": "2025-09-19T15:14:42.872146",
     "status": "completed"
    },
    "tags": []
   },
   "outputs": [
    {
     "name": "stdout",
     "output_type": "stream",
     "text": [
      "20本のシーケンスを生成しました。 (各 約110文字)\n"
     ]
    }
   ],
   "source": [
    "# 行列計算用のシーケンスリストを生成\n",
    "num_sequences = 20\n",
    "sequences = [generate_test_case(10, 10, 3)[1] for _ in range(num_sequences)]\n",
    "print(f\"{num_sequences}本のシーケンスを生成しました。 (各 約{len(sequences[0])}文字)\")"
   ]
  },
  {
   "cell_type": "code",
   "execution_count": 8,
   "id": "359a3dd6",
   "metadata": {
    "execution": {
     "iopub.execute_input": "2025-09-19T15:14:42.898467Z",
     "iopub.status.busy": "2025-09-19T15:14:42.897763Z",
     "iopub.status.idle": "2025-09-19T15:15:04.719389Z",
     "shell.execute_reply": "2025-09-19T15:15:04.718208Z"
    },
    "papermill": {
     "duration": 21.828302,
     "end_time": "2025-09-19T15:15:04.721810",
     "exception": false,
     "start_time": "2025-09-19T15:14:42.893508",
     "status": "completed"
    },
    "tags": []
   },
   "outputs": [
    {
     "name": "stdout",
     "output_type": "stream",
     "text": [
      "--- Total Execution Time for Matrix Calculation (CPED) ---\n",
      "Python Backend: 21.6182s\n",
      "C++ Backend: 0.1963s\n"
     ]
    }
   ],
   "source": [
    "cped_results_matrix = {}\n",
    "\n",
    "# 1. Pythonバックエンド\n",
    "start_time = timeit.default_timer()\n",
    "matrix_py = cped_matrix(sequences, backend=\"python\")\n",
    "cped_results_matrix[\"Python Backend\"] = timeit.default_timer() - start_time\n",
    "\n",
    "# 2. C++バックエンド\n",
    "time_cpp_matrix = 0\n",
    "if CPP_AVAILABLE:\n",
    "    start_time = timeit.default_timer()\n",
    "    matrix_cpp = cped_matrix(sequences, backend=\"cpp\")\n",
    "    time_cpp_matrix = timeit.default_timer() - start_time\n",
    "else:\n",
    "    print(\"C++ backend is not available. Falling back to Python timings.\")\n",
    "cped_results_matrix[\"C++ Backend\"] = time_cpp_matrix\n",
    "\n",
    "print(\"--- Total Execution Time for Matrix Calculation (CPED) ---\")\n",
    "for name, duration in cped_results_matrix.items():\n",
    "    print(f\"{name}: {duration:.4f}s\")"
   ]
  },
  {
   "cell_type": "code",
   "execution_count": 9,
   "id": "06d7bb11",
   "metadata": {
    "execution": {
     "iopub.execute_input": "2025-09-19T15:15:04.733202Z",
     "iopub.status.busy": "2025-09-19T15:15:04.732852Z",
     "iopub.status.idle": "2025-09-19T15:15:04.883174Z",
     "shell.execute_reply": "2025-09-19T15:15:04.881945Z"
    },
    "papermill": {
     "duration": 0.15828,
     "end_time": "2025-09-19T15:15:04.885261",
     "exception": false,
     "start_time": "2025-09-19T15:15:04.726981",
     "status": "completed"
    },
    "tags": []
   },
   "outputs": [
    {
     "data": {
      "image/png": "[encoded data removed]",
      "text/plain": [
       "<Figure size 1000x600 with 1 Axes>"
      ]
     },
     "metadata": {},
     "output_type": "display_data"
    }
   ],
   "source": [
    "labels = list(cped_results_matrix.keys())\n",
    "times = list(cped_results_matrix.values())\n",
    "\n",
    "fig, ax = plt.subplots(figsize=(10, 6))\n",
    "bars = ax.bar(labels, times, color=[\"skyblue\", \"lightgreen\"])\n",
    "\n",
    "ax.set_ylabel(\"Total exec time (sec)\")\n",
    "ax.set_yscale(\"log\")\n",
    "ax.set_title(\n",
    "    f\"Comparison (CPED): {len(sequences)}x{len(sequences)} Distance Matrix Computation\"\n",
    ")\n",
    "ax.bar_label(bars, fmt=\"%.2fs\")\n",
    "\n",
    "plt.xticks(rotation=15, ha=\"right\")\n",
    "fig.tight_layout()\n",
    "plt.show()"
   ]
  },
  {
   "cell_type": "markdown",
   "id": "4402cf29",
   "metadata": {
    "papermill": {
     "duration": 0.008509,
     "end_time": "2025-09-19T15:15:04.899310",
     "exception": false,
     "start_time": "2025-09-19T15:15:04.890801",
     "status": "completed"
    },
    "tags": []
   },
   "source": [
    "### BICPED\n",
    "\n",
    "行列計算でも同一のシーケンス群を使い、BICPED の Python/C++ 実装を比較します。\n"
   ]
  },
  {
   "cell_type": "code",
   "execution_count": 10,
   "id": "519dbdba",
   "metadata": {
    "execution": {
     "iopub.execute_input": "2025-09-19T15:15:04.911376Z",
     "iopub.status.busy": "2025-09-19T15:15:04.910982Z",
     "iopub.status.idle": "2025-09-19T15:15:51.087177Z",
     "shell.execute_reply": "2025-09-19T15:15:51.086781Z"
    },
    "papermill": {
     "duration": 46.185738,
     "end_time": "2025-09-19T15:15:51.090126",
     "exception": false,
     "start_time": "2025-09-19T15:15:04.904388",
     "status": "completed"
    },
    "tags": []
   },
   "outputs": [
    {
     "name": "stdout",
     "output_type": "stream",
     "text": [
      "--- Total Execution Time for Matrix Calculation (BICPED) ---\n",
      "Python Backend: 45.8392s\n",
      "C++ Backend: 0.3324s\n"
     ]
    }
   ],
   "source": [
    "bicped_results_matrix = {}\n",
    "\n",
    "start_time = timeit.default_timer()\n",
    "matrix_py = bicped_matrix(sequences, backend=\"python\")\n",
    "bicped_results_matrix[\"Python Backend\"] = timeit.default_timer() - start_time\n",
    "\n",
    "time_cpp_matrix = 0\n",
    "if CPP_AVAILABLE:\n",
    "    start_time = timeit.default_timer()\n",
    "    matrix_cpp = bicped_matrix(sequences, backend=\"cpp\")\n",
    "    time_cpp_matrix = timeit.default_timer() - start_time\n",
    "else:\n",
    "    print(\"C++ backend is not available. Falling back to Python timings.\")\n",
    "bicped_results_matrix[\"C++ Backend\"] = time_cpp_matrix\n",
    "\n",
    "print(\"--- Total Execution Time for Matrix Calculation (BICPED) ---\")\n",
    "for name, duration in bicped_results_matrix.items():\n",
    "    print(f\"{name}: {duration:.4f}s\")"
   ]
  },
  {
   "cell_type": "code",
   "execution_count": 11,
   "id": "c06f51df",
   "metadata": {
    "execution": {
     "iopub.execute_input": "2025-09-19T15:15:51.095135Z",
     "iopub.status.busy": "2025-09-19T15:15:51.095010Z",
     "iopub.status.idle": "2025-09-19T15:15:51.186976Z",
     "shell.execute_reply": "2025-09-19T15:15:51.186682Z"
    },
    "papermill": {
     "duration": 0.095387,
     "end_time": "2025-09-19T15:15:51.187800",
     "exception": false,
     "start_time": "2025-09-19T15:15:51.092413",
     "status": "completed"
    },
    "tags": []
   },
   "outputs": [
    {
     "data": {
      "image/png": "[encoded data removed]",
      "text/plain": [
       "<Figure size 1000x600 with 1 Axes>"
      ]
     },
     "metadata": {},
     "output_type": "display_data"
    }
   ],
   "source": [
    "labels = list(bicped_results_matrix.keys())\n",
    "times = list(bicped_results_matrix.values())\n",
    "\n",
    "fig, ax = plt.subplots(figsize=(10, 6))\n",
    "bars = ax.bar(labels, times, color=[\"skyblue\", \"lightgreen\"])\n",
    "\n",
    "ax.set_ylabel(\"Total exec time (sec)\")\n",
    "ax.set_yscale(\"log\")\n",
    "ax.set_title(\n",
    "    f\"Comparison (BICPED): {len(sequences)}x{len(sequences)} Distance Matrix Computation\"\n",
    ")\n",
    "ax.bar_label(bars, fmt=\"%.2fs\")\n",
    "\n",
    "plt.xticks(rotation=15, ha=\"right\")\n",
    "fig.tight_layout()\n",
    "plt.show()"
   ]
  },
  {
   "cell_type": "markdown",
   "id": "19bbeb2b",
   "metadata": {
    "papermill": {
     "duration": 0.002681,
     "end_time": "2025-09-19T15:15:51.194822",
     "exception": false,
     "start_time": "2025-09-19T15:15:51.192141",
     "status": "completed"
    },
    "tags": []
   },
   "source": [
    "## 5. 結論\n",
    "\n",
    "ベンチマークの結果から、以下のことが分かります。\n",
    "\n",
    "1.  **C++は非常に効果的**: CPED・BICPED ともに、1対1の計算と行列計算の両方において、C++バックエンドはPythonバックエンドに比べて劇的に高速です。文字列が長くなるほど、その差は顕著になります。\n",
    "2.  **並列化はC++実装で**: C++実装は内部でネイティブスレッドを利用して並列化されており、大規模な行列計算で非常に高いパフォーマンスを発揮します。\n",
    "3.  **距離関数ごとの傾向は類似**: BICPED でも CPED と同様の性能傾向が見られ、用途に応じて同じ戦略を適用できます。\n",
    "\n",
    "したがって、パフォーマンスが重要視される場面では、C++バックエンド（`backend='cpp'`）を積極的に使用することが推奨されます。\n"
   ]
  }
 ],
 "metadata": {
  "kernelspec": {
   "display_name": "repmetric",
   "language": "python",
   "name": "repmetric"
  },
  "language_info": {
   "codemirror_mode": {
    "name": "ipython",
    "version": 3
   },
   "file_extension": ".py",
   "mimetype": "text/x-python",
   "name": "python",
   "nbconvert_exporter": "python",
   "pygments_lexer": "ipython3",
   "version": "3.12.4"
  },
  "papermill": {
   "default_parameters": {},
   "duration": 110.552978,
   "end_time": "2025-09-19T15:15:51.515908",
   "environment_variables": {},
   "exception": null,
   "input_path": "notebooks/performance_comparison.ipynb",
   "output_path": "notebooks/performance_comparison.ipynb",
   "parameters": {},
   "start_time": "2025-09-19T15:14:00.962930",
   "version": "2.6.0"
  }
 },
 "nbformat": 4,
 "nbformat_minor": 5
}