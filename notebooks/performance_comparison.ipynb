{
 "cells": [
  {
   "cell_type": "markdown",
   "id": "d636dd97",
   "metadata": {
    "papermill": {
     "duration": 0.025094,
     "end_time": "2025-09-19T12:35:24.505718",
     "exception": false,
     "start_time": "2025-09-19T12:35:24.480624",
     "status": "completed"
    },
    "tags": []
   },
   "source": [
    "# CPED 関数のパフォーマンス比較\n",
    "\n",
    "このノートブックでは、`cped` (Copy & Paste Edit Distance) 関数のバックエンド実装のパフォーマンスを比較します。\n",
    "\n",
    "1.  **Python版**: `cped(backend='python')`\n",
    "2.  **C++版**: `cped(backend='cpp')`\n",
    "\n",
    "比較を通じて、各実装の特性と、どのような状況でどの実装が有効であるかを明らかにします。"
   ]
  },
  {
   "cell_type": "markdown",
   "id": "5f1ea2d3",
   "metadata": {
    "papermill": {
     "duration": 0.007081,
     "end_time": "2025-09-19T12:35:24.571842",
     "exception": false,
     "start_time": "2025-09-19T12:35:24.564761",
     "status": "completed"
    },
    "tags": []
   },
   "source": [
    "## 1. セットアップ\n",
    "\n",
    "必要なライブラリと、`src`ディレクトリからCPED関数をインポートします。"
   ]
  },
  {
   "cell_type": "code",
   "execution_count": 1,
   "id": "32fd43b0",
   "metadata": {
    "execution": {
     "iopub.execute_input": "2025-09-19T12:35:24.599950Z",
     "iopub.status.busy": "2025-09-19T12:35:24.599452Z",
     "iopub.status.idle": "2025-09-19T12:35:27.884714Z",
     "shell.execute_reply": "2025-09-19T12:35:27.883194Z"
    },
    "papermill": {
     "duration": 3.295357,
     "end_time": "2025-09-19T12:35:27.886968",
     "exception": false,
     "start_time": "2025-09-19T12:35:24.591611",
     "status": "completed"
    },
    "tags": []
   },
   "outputs": [],
   "source": [
    "import sys\n",
    "import os\n",
    "import timeit\n",
    "import numpy as np\n",
    "import matplotlib.pyplot as plt\n",
    "import random\n",
    "\n",
    "# Add src directory to path to import cped module\n",
    "sys.path.append(os.path.abspath(os.path.join(\"..\", \"src\")))\n",
    "from repmetric import cped, cped_matrix, bicped, bicped_matrix, CPP_AVAILABLE\n",
    "from repmetric.util import generate_test_case\n",
    "\n",
    "# Set random seed for reproducibility\n",
    "random.seed(42)\n",
    "\n",
    "# Matplotlibの日本語設定\n",
    "try:\n",
    "    import japanize_matplotlib\n",
    "\n",
    "    japanize_matplotlib.japanize()\n",
    "except ImportError:\n",
    "    plt.rcParams[\"font.family\"] = \"sans-serif\""
   ]
  },
  {
   "cell_type": "markdown",
   "id": "4fa58a32",
   "metadata": {
    "papermill": {
     "duration": 0.004366,
     "end_time": "2025-09-19T12:35:27.896246",
     "exception": false,
     "start_time": "2025-09-19T12:35:27.891880",
     "status": "completed"
    },
    "tags": []
   },
   "source": [
    "## 2. テストデータの生成\n",
    "\n",
    "パフォーマンス測定のために、複雑さが異なるいくつかのテスト用文字列ペアを生成します。"
   ]
  },
  {
   "cell_type": "markdown",
   "id": "reproducibility-note",
   "metadata": {
    "papermill": {
     "duration": 0.00425,
     "end_time": "2025-09-19T12:35:27.904528",
     "exception": false,
     "start_time": "2025-09-19T12:35:27.900278",
     "status": "completed"
    },
    "tags": []
   },
   "source": [
    "### 再現性のための注意点\n",
    "\n",
    "公平なパフォーマンス比較のため、このノートブックでは乱数シードを`42`に固定しています。\n",
    "\n",
    "乱数は以下の順番で使用されます：\n",
    "1. **ベンチマーク1用データ**: `generate_test_case` を3回呼び出し、'small', 'medium', 'large' のテストケースを生成します。\n",
    "2. **ベンチマーク2用データ**: `generate_test_case` を `num_sequences` (10) 回ループで呼び出し、距離行列計算用のシーケンスリストを生成します。"
   ]
  },
  {
   "cell_type": "code",
   "execution_count": 2,
   "id": "40c46b99",
   "metadata": {
    "execution": {
     "iopub.execute_input": "2025-09-19T12:35:27.915032Z",
     "iopub.status.busy": "2025-09-19T12:35:27.914518Z",
     "iopub.status.idle": "2025-09-19T12:35:27.924007Z",
     "shell.execute_reply": "2025-09-19T12:35:27.922096Z"
    },
    "papermill": {
     "duration": 0.017231,
     "end_time": "2025-09-19T12:35:27.925908",
     "exception": false,
     "start_time": "2025-09-19T12:35:27.908677",
     "status": "completed"
    },
    "tags": []
   },
   "outputs": [
    {
     "name": "stdout",
     "output_type": "stream",
     "text": [
      "Test Case 'small': len(X)=25, len(Y)=15\n",
      "Test Case 'medium': len(X)=100, len(Y)=120\n",
      "Test Case 'large': len(X)=225, len(Y)=285\n"
     ]
    }
   ],
   "source": [
    "test_cases = {\n",
    "    \"small\": generate_test_case(unit_length=5, repeats=5, edits=2),\n",
    "    \"medium\": generate_test_case(unit_length=10, repeats=10, edits=5),\n",
    "    \"large\": generate_test_case(unit_length=15, repeats=15, edits=8),\n",
    "}\n",
    "\n",
    "for name, (x, y) in test_cases.items():\n",
    "    print(f\"Test Case '{name}': len(X)={len(x)}, len(Y)={len(y)}\")"
   ]
  },
  {
   "cell_type": "markdown",
   "id": "0cb39b93",
   "metadata": {
    "papermill": {
     "duration": 0.005001,
     "end_time": "2025-09-19T12:35:27.935920",
     "exception": false,
     "start_time": "2025-09-19T12:35:27.930919",
     "status": "completed"
    },
    "tags": []
   },
   "source": [
    "## 3. ベンチマーク1: 1対1のパフォーマンス (Python vs C++)\n",
    "\n",
    "単一の文字列ペアに対する距離計算の実行速度を比較します。`timeit`を使い、複数回実行した平均時間を測定します。"
   ]
  },
  {
   "cell_type": "code",
   "execution_count": 3,
   "id": "06d513eb",
   "metadata": {
    "execution": {
     "iopub.execute_input": "2025-09-19T12:35:27.947882Z",
     "iopub.status.busy": "2025-09-19T12:35:27.947442Z",
     "iopub.status.idle": "2025-09-19T12:35:49.420248Z",
     "shell.execute_reply": "2025-09-19T12:35:49.419106Z"
    },
    "papermill": {
     "duration": 21.48142,
     "end_time": "2025-09-19T12:35:49.422113",
     "exception": false,
     "start_time": "2025-09-19T12:35:27.940693",
     "status": "completed"
    },
    "tags": []
   },
   "outputs": [
    {
     "name": "stdout",
     "output_type": "stream",
     "text": [
      "--- Benchmarking 'small' case ---\n",
      "--- Benchmarking 'medium' case ---\n"
     ]
    },
    {
     "name": "stdout",
     "output_type": "stream",
     "text": [
      "--- Benchmarking 'large' case ---\n"
     ]
    },
    {
     "name": "stdout",
     "output_type": "stream",
     "text": [
      "\n",
      "--- Average Execution Time per Run ---\n",
      "Case 'small': Python=0.001719s, C++=0.000020s\n",
      "Case 'medium': Python=0.185968s, C++=0.005829s\n",
      "Case 'large': Python=0.817602s, C++=0.058597s\n"
     ]
    }
   ],
   "source": [
    "results_single = {}\n",
    "number_of_runs = 20  # timeitの実行回数\n",
    "\n",
    "for name, (X, Y) in test_cases.items():\n",
    "    print(f\"--- Benchmarking '{name}' case ---\")\n",
    "\n",
    "    # Python版の測定\n",
    "    time_py = timeit.timeit(lambda: cped(X, Y, backend=\"python\"), number=number_of_runs)\n",
    "\n",
    "    # C++版の測定\n",
    "    time_cpp = 0\n",
    "    if CPP_AVAILABLE:\n",
    "        # 初回実行でライブラリ読み込み\n",
    "        cped(X, Y, backend=\"cpp\")\n",
    "        time_cpp = timeit.timeit(\n",
    "            lambda: cped(X, Y, backend=\"cpp\"), number=number_of_runs\n",
    "        )\n",
    "\n",
    "    results_single[name] = {\n",
    "        \"Python (s)\": time_py / number_of_runs,\n",
    "        \"C++ (s)\": time_cpp / number_of_runs if CPP_AVAILABLE else 0,\n",
    "    }\n",
    "\n",
    "print(\"\\n--- Average Execution Time per Run ---\")\n",
    "for name, times in results_single.items():\n",
    "    print(\n",
    "        f\"Case '{name}': Python={times['Python (s)']:.6f}s, C++={times['C++ (s)']:.6f}s\"\n",
    "    )"
   ]
  },
  {
   "cell_type": "code",
   "execution_count": 4,
   "id": "8847dcaa",
   "metadata": {
    "execution": {
     "iopub.execute_input": "2025-09-19T12:35:49.434157Z",
     "iopub.status.busy": "2025-09-19T12:35:49.433669Z",
     "iopub.status.idle": "2025-09-19T12:35:50.343159Z",
     "shell.execute_reply": "2025-09-19T12:35:50.341833Z"
    },
    "papermill": {
     "duration": 0.918528,
     "end_time": "2025-09-19T12:35:50.345435",
     "exception": false,
     "start_time": "2025-09-19T12:35:49.426907",
     "status": "completed"
    },
    "tags": []
   },
   "outputs": [
    {
     "data": {
      "image/png": "[encoded data removed]",
      "text/plain": [
       "<Figure size 1200x700 with 1 Axes>"
      ]
     },
     "metadata": {},
     "output_type": "display_data"
    }
   ],
   "source": [
    "labels = list(results_single.keys())\n",
    "python_times = [r[\"Python (s)\"] for r in results_single.values()]\n",
    "cpp_times = [r[\"C++ (s)\"] for r in results_single.values()]\n",
    "\n",
    "x = np.arange(len(labels))\n",
    "width = 0.35\n",
    "\n",
    "fig, ax = plt.subplots(figsize=(12, 7))\n",
    "rects1 = ax.bar(x - width / 2, python_times, width, label=\"Python Backend\")\n",
    "rects2 = ax.bar(x + width / 2, cpp_times, width, label=\"C++ Backend\")\n",
    "\n",
    "ax.set_ylabel(\"Avg exec time (sec)\")\n",
    "ax.set_title(\"Performance Comparison: Python vs C++ Backend\")\n",
    "ax.set_xticks(x)\n",
    "ax.set_xticklabels(labels)\n",
    "ax.set_yscale(\"log\")  # 時間差が大きいので対数スケール\n",
    "ax.legend()\n",
    "\n",
    "ax.bar_label(rects1, padding=3, fmt=\"%.4f\")\n",
    "ax.bar_label(rects2, padding=3, fmt=\"%.4f\")\n",
    "\n",
    "fig.tight_layout()\n",
    "plt.show()"
   ]
  },
  {
   "cell_type": "markdown",
   "id": "0d5473e5",
   "metadata": {
    "papermill": {
     "duration": 0.007227,
     "end_time": "2025-09-19T12:35:50.359919",
     "exception": false,
     "start_time": "2025-09-19T12:35:50.352692",
     "status": "completed"
    },
    "tags": []
   },
   "source": [
    "## 4. ベンチマーク2: 行列計算のパフォーマンス\n",
    "\n",
    "複数のシーケンスからなるリスト全体の距離行列を計算する際のパフォーマンスを比較します。"
   ]
  },
  {
   "cell_type": "markdown",
   "id": "matrix-cped-title",
   "metadata": {
    "papermill": {
     "duration": 0.006723,
     "end_time": "2025-09-19T12:35:50.373502",
     "exception": false,
     "start_time": "2025-09-19T12:35:50.366779",
     "status": "completed"
    },
    "tags": []
   },
   "source": [
    "### `cped_matrix` のパフォーマンス"
   ]
  },
  {
   "cell_type": "code",
   "execution_count": 5,
   "id": "8f45c925",
   "metadata": {
    "execution": {
     "iopub.execute_input": "2025-09-19T12:35:50.387322Z",
     "iopub.status.busy": "2025-09-19T12:35:50.386870Z",
     "iopub.status.idle": "2025-09-19T12:35:50.397629Z",
     "shell.execute_reply": "2025-09-19T12:35:50.396096Z"
    },
    "papermill": {
     "duration": 0.020157,
     "end_time": "2025-09-19T12:35:50.399735",
     "exception": false,
     "start_time": "2025-09-19T12:35:50.379578",
     "status": "completed"
    },
    "tags": []
   },
   "outputs": [
    {
     "name": "stdout",
     "output_type": "stream",
     "text": [
      "20本のシーケンスを生成しました。 (各 約110文字)\n"
     ]
    }
   ],
   "source": [
    "# 行列計算用のシーケンスリストを生成\n",
    "num_sequences = 20\n",
    "sequences = [generate_test_case(10, 10, 3)[1] for _ in range(num_sequences)]\n",
    "print(f\"{num_sequences}本のシーケンスを生成しました。 (各 約{len(sequences[0])}文字)\")"
   ]
  },
  {
   "cell_type": "code",
   "execution_count": 6,
   "id": "359a3dd6",
   "metadata": {
    "execution": {
     "iopub.execute_input": "2025-09-19T12:35:50.413649Z",
     "iopub.status.busy": "2025-09-19T12:35:50.413084Z",
     "iopub.status.idle": "2025-09-19T12:36:34.574405Z",
     "shell.execute_reply": "2025-09-19T12:36:34.572930Z"
    },
    "papermill": {
     "duration": 44.174746,
     "end_time": "2025-09-19T12:36:34.580466",
     "exception": false,
     "start_time": "2025-09-19T12:35:50.405720",
     "status": "completed"
    },
    "tags": []
   },
   "outputs": [
    {
     "name": "stdout",
     "output_type": "stream",
     "text": [
      "--- Total Execution Time for Matrix Calculation ---\n",
      "Python Backend: 43.6946s\n",
      "C++ Backend: 0.4580s\n"
     ]
    }
   ],
   "source": [
    "results_matrix = {}\n",
    "\n",
    "# 1. Pythonバックエンド\n",
    "start_time = timeit.default_timer()\n",
    "matrix_py = cped_matrix(sequences, backend=\"python\")\n",
    "results_matrix[\"Python Backend\"] = timeit.default_timer() - start_time\n",
    "\n",
    "# 2. C++バックエンド\n",
    "time_cpp_matrix = 0\n",
    "if CPP_AVAILABLE:\n",
    "    start_time = timeit.default_timer()\n",
    "    matrix_cpp = cped_matrix(sequences, backend=\"cpp\")\n",
    "    time_cpp_matrix = timeit.default_timer() - start_time\n",
    "results_matrix[\"C++ Backend\"] = time_cpp_matrix\n",
    "\n",
    "print(\"--- Total Execution Time for Matrix Calculation ---\")\n",
    "for name, duration in results_matrix.items():\n",
    "    print(f\"{name}: {duration:.4f}s\")"
   ]
  },
  {
   "cell_type": "markdown",
   "id": "matrix-bicped-title",
   "metadata": {
    "papermill": {
     "duration": 0.005742,
     "end_time": "2025-09-19T12:36:34.592660",
     "exception": false,
     "start_time": "2025-09-19T12:36:34.586918",
     "status": "completed"
    },
    "tags": []
   },
   "source": [
    "### `bicped_matrix` のパフォーマンス"
   ]
  },
  {
   "cell_type": "code",
   "execution_count": 7,
   "id": "matrix-bicped-code",
   "metadata": {
    "execution": {
     "iopub.execute_input": "2025-09-19T12:36:34.606343Z",
     "iopub.status.busy": "2025-09-19T12:36:34.605948Z",
     "iopub.status.idle": "2025-09-19T12:38:03.873817Z",
     "shell.execute_reply": "2025-09-19T12:38:03.872460Z"
    },
    "papermill": {
     "duration": 89.281791,
     "end_time": "2025-09-19T12:38:03.880274",
     "exception": false,
     "start_time": "2025-09-19T12:36:34.598483",
     "status": "completed"
    },
    "tags": []
   },
   "outputs": [
    {
     "name": "stdout",
     "output_type": "stream",
     "text": [
      "--- bicped_matrix: Total Execution Time ---\n",
      "Python: 84.4632s\n",
      "C++ (Sequential): 3.7913s\n",
      "C++ (Parallel): 1.0039s\n"
     ]
    }
   ],
   "source": [
    "results_matrix_bicped = {}\n",
    "\n",
    "# 1. Python\n",
    "start_time = timeit.default_timer()\n",
    "matrix_py_bicped = bicped_matrix(sequences, backend=\"python\")\n",
    "results_matrix_bicped[\"Python\"] = timeit.default_timer() - start_time\n",
    "\n",
    "# 2. C++ (逐次)\n",
    "time_cpp_seq = 0\n",
    "if CPP_AVAILABLE:\n",
    "    start_time = timeit.default_timer()\n",
    "    matrix_cpp_seq_bicped = bicped_matrix(sequences, backend=\"cpp\", parallel=False)\n",
    "    time_cpp_seq = timeit.default_timer() - start_time\n",
    "results_matrix_bicped[\"C++ (Sequential)\"] = time_cpp_seq\n",
    "\n",
    "# 3. C++ (並列)\n",
    "time_cpp_par = 0\n",
    "if CPP_AVAILABLE:\n",
    "    start_time = timeit.default_timer()\n",
    "    matrix_cpp_par_bicped = bicped_matrix(sequences, backend=\"cpp\", parallel=True)\n",
    "    time_cpp_par = timeit.default_timer() - start_time\n",
    "results_matrix_bicped[\"C++ (Parallel)\"] = time_cpp_par\n",
    "\n",
    "print(\"--- bicped_matrix: Total Execution Time ---\")\n",
    "for name, duration in results_matrix_bicped.items():\n",
    "    print(f\"{name}: {duration:.4f}s\")"
   ]
  },
  {
   "cell_type": "code",
   "execution_count": 8,
   "id": "06d7bb11",
   "metadata": {
    "execution": {
     "iopub.execute_input": "2025-09-19T12:38:03.893537Z",
     "iopub.status.busy": "2025-09-19T12:38:03.893035Z",
     "iopub.status.idle": "2025-09-19T12:38:04.368936Z",
     "shell.execute_reply": "2025-09-19T12:38:04.367788Z"
    },
    "papermill": {
     "duration": 0.484761,
     "end_time": "2025-09-19T12:38:04.371001",
     "exception": false,
     "start_time": "2025-09-19T12:38:03.886240",
     "status": "completed"
    },
    "tags": []
   },
   "outputs": [
    {
     "data": {
      "image/png": "[encoded data removed]",
      "text/plain": [
       "<Figure size 1400x800 with 1 Axes>"
      ]
     },
     "metadata": {},
     "output_type": "display_data"
    }
   ],
   "source": [
    "all_labels = ['cped', 'bicped']\n",
    "python_times = [\n",
    "    results_matrix.get('Python Backend', 0),\n",
    "    results_matrix_bicped.get('Python', 0)\n",
    "]\n",
    "cpp_seq_times = [\n",
    "    results_matrix.get('C++ Backend', 0), # cped only has one C++ time\n",
    "    results_matrix_bicped.get('C++ (Sequential)', 0)\n",
    "]\n",
    "cpp_par_times = [\n",
    "    results_matrix.get('C++ Backend', 0), # Assuming parallel for cped\n",
    "    results_matrix_bicped.get('C++ (Parallel)', 0)\n",
    "]\n",
    "\n",
    "x = np.arange(len(all_labels))\n",
    "width = 0.25\n",
    "\n",
    "fig, ax = plt.subplots(figsize=(14, 8))\n",
    "rects1 = ax.bar(x - width, python_times, width, label='Python')\n",
    "rects2 = ax.bar(x, cpp_seq_times, width, label='C++ (Sequential)')\n",
    "rects3 = ax.bar(x + width, cpp_par_times, width, label='C++ (Parallel)')\n",
    "\n",
    "ax.set_ylabel('Total exec time (sec)')\n",
    "ax.set_title(f'{num_sequences}x{num_sequences} Distance Matrix Performance')\n",
    "ax.set_xticks(x)\n",
    "ax.set_xticklabels(all_labels)\n",
    "ax.set_yscale('log')\n",
    "ax.legend()\n",
    "\n",
    "ax.bar_label(rects1, padding=3, fmt='%.2fs')\n",
    "ax.bar_label(rects2, padding=3, fmt='%.2fs')\n",
    "ax.bar_label(rects3, padding=3, fmt='%.2fs')\n",
    "\n",
    "fig.tight_layout()\n",
    "plt.show()"
   ]
  },
  {
   "cell_type": "markdown",
   "id": "19bbeb2b",
   "metadata": {
    "papermill": {
     "duration": 0.005738,
     "end_time": "2025-09-19T12:38:04.383414",
     "exception": false,
     "start_time": "2025-09-19T12:38:04.377676",
     "status": "completed"
    },
    "tags": []
   },
   "source": [
    "## 5. 結論\n",
    "\n",
    "ベンチマークの結果から、以下のことが分かります。\n",
    "\n",
    "1.  **C++は非常に効果的**: 1対1の計算と行列計算の両方において、C++バックエンドはPythonバックエンドに比べて劇的に高速です。文字列が長くなるほど、その差は顕著になります。\n",
    "2.  **並列化はC++実装で**: C++実装は内部でネイティブスレッドを利用して並列化されており、大規模な行列計算で非常に高いパフォーマンスを発揮します。\n",
    "\n",
    "したがって、パフォーマンスが重要視される場面では、C++バックエンド（`backend='cpp'`）を積極的に使用することが推奨されます。"
   ]
  },
  {
   "cell_type": "markdown",
   "id": "bicped-benchmark-title",
   "metadata": {
    "papermill": {
     "duration": 0.006292,
     "end_time": "2025-09-19T12:38:04.395592",
     "exception": false,
     "start_time": "2025-09-19T12:38:04.389300",
     "status": "completed"
    },
    "tags": []
   },
   "source": [
    "### ベンチマーク1-B: `bicped` の1対1パフォーマンス"
   ]
  },
  {
   "cell_type": "code",
   "execution_count": 9,
   "id": "bicped-benchmark-code",
   "metadata": {
    "execution": {
     "iopub.execute_input": "2025-09-19T12:38:04.409739Z",
     "iopub.status.busy": "2025-09-19T12:38:04.409303Z",
     "iopub.status.idle": "2025-09-19T12:38:44.121465Z",
     "shell.execute_reply": "2025-09-19T12:38:44.120185Z"
    },
    "papermill": {
     "duration": 39.727208,
     "end_time": "2025-09-19T12:38:44.128259",
     "exception": false,
     "start_time": "2025-09-19T12:38:04.401051",
     "status": "completed"
    },
    "tags": []
   },
   "outputs": [
    {
     "name": "stdout",
     "output_type": "stream",
     "text": [
      "--- bicped: Average Execution Time per Run ---\n",
      "Case 'small': Python=0.003650s, C++=0.000054s\n",
      "Case 'medium': Python=0.256046s, C++=0.012790s\n",
      "Case 'large': Python=1.577179s, C++=0.128346s\n"
     ]
    }
   ],
   "source": [
    "results_bicped_single = {}\n",
    "number_of_runs = 20\n",
    "\n",
    "for name, (X, Y) in test_cases.items():\n",
    "    # Python版\n",
    "    time_py = timeit.timeit(lambda: bicped(X, Y, backend=\"python\"), number=number_of_runs)\n",
    "\n",
    "    # C++版\n",
    "    time_cpp = 0\n",
    "    if CPP_AVAILABLE:\n",
    "        bicped(X, Y, backend=\"cpp\") # Warm-up\n",
    "        time_cpp = timeit.timeit(lambda: bicped(X, Y, backend=\"cpp\"), number=number_of_runs)\n",
    "    \n",
    "    results_bicped_single[name] = {\n",
    "        \"Python (s)\": time_py / number_of_runs,\n",
    "        \"C++ (s)\": time_cpp / number_of_runs if CPP_AVAILABLE else 0,\n",
    "    }\n",
    "\n",
    "print(\"--- bicped: Average Execution Time per Run ---\")\n",
    "for name, times in results_bicped_single.items():\n",
    "    print(f\"Case '{name}': Python={times['Python (s)']:.6f}s, C++={times['C++ (s)']:.6f}s\")"
   ]
  },
  {
   "cell_type": "code",
   "execution_count": 10,
   "id": "bicped-benchmark-plot",
   "metadata": {
    "execution": {
     "iopub.execute_input": "2025-09-19T12:38:44.142981Z",
     "iopub.status.busy": "2025-09-19T12:38:44.142575Z",
     "iopub.status.idle": "2025-09-19T12:38:44.766481Z",
     "shell.execute_reply": "2025-09-19T12:38:44.765257Z"
    },
    "papermill": {
     "duration": 0.633307,
     "end_time": "2025-09-19T12:38:44.768211",
     "exception": false,
     "start_time": "2025-09-19T12:38:44.134904",
     "status": "completed"
    },
    "tags": []
   },
   "outputs": [
    {
     "data": {
      "image/png": "[encoded data removed]",
      "text/plain": [
       "<Figure size 1200x700 with 1 Axes>"
      ]
     },
     "metadata": {},
     "output_type": "display_data"
    }
   ],
   "source": [
    "labels_bicped = list(results_bicped_single.keys())\n",
    "python_times_bicped = [r[\"Python (s)\"] for r in results_bicped_single.values()]\n",
    "cpp_times_bicped = [r[\"C++ (s)\"] for r in results_bicped_single.values()]\n",
    "\n",
    "x = np.arange(len(labels_bicped))\n",
    "width = 0.35\n",
    "\n",
    "fig, ax = plt.subplots(figsize=(12, 7))\n",
    "rects1 = ax.bar(x - width / 2, python_times_bicped, width, label=\"Python Backend\")\n",
    "rects2 = ax.bar(x + width / 2, cpp_times_bicped, width, label=\"C++ Backend\")\n",
    "\n",
    "ax.set_ylabel(\"Avg exec time (sec)\")\n",
    "ax.set_title(\"bicped Performance: Python vs C++\")\n",
    "ax.set_xticks(x)\n",
    "ax.set_xticklabels(labels_bicped)\n",
    "ax.set_yscale(\"log\")\n",
    "ax.legend()\n",
    "\n",
    "ax.bar_label(rects1, padding=3, fmt=\"%.4f\")\n",
    "ax.bar_label(rects2, padding=3, fmt=\"%.4f\")\n",
    "\n",
    "fig.tight_layout()\n",
    "plt.show()"
   ]
  }
 ],
 "metadata": {
  "kernelspec": {
   "display_name": "repmetric",
   "language": "python",
   "name": "repmetric"
  },
  "language_info": {
   "codemirror_mode": {
    "name": "ipython",
    "version": 3
   },
   "file_extension": ".py",
   "mimetype": "text/x-python",
   "name": "python",
   "nbconvert_exporter": "python",
   "pygments_lexer": "ipython3",
   "version": "3.12.11"
  },
  "papermill": {
   "default_parameters": {},
   "duration": 203.981886,
   "end_time": "2025-09-19T12:38:45.198499",
   "environment_variables": {},
   "exception": null,
   "input_path": "notebooks/performance_comparison.ipynb",
   "output_path": "notebooks/performance_comparison_output.ipynb",
   "parameters": {},
   "start_time": "2025-09-19T12:35:21.216613",
   "version": "2.6.0"
  }
 },
 "nbformat": 4,
 "nbformat_minor": 5
}